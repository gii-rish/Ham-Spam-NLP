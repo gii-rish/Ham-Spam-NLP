{
  "nbformat": 4,
  "nbformat_minor": 0,
  "metadata": {
    "colab": {
      "name": "ham/spam.ipynb",
      "provenance": [],
      "authorship_tag": "ABX9TyP0xvOwot6eiY1Pj35N3cs3",
      "include_colab_link": true
    },
    "kernelspec": {
      "name": "python3",
      "display_name": "Python 3"
    },
    "language_info": {
      "name": "python"
    }
  },
  "cells": [
    {
      "cell_type": "markdown",
      "metadata": {
        "id": "view-in-github",
        "colab_type": "text"
      },
      "source": [
        "<a href=\"https://colab.research.google.com/github/gii-rish/Ham-Spam-NLP/blob/main/ham_spam.ipynb\" target=\"_parent\"><img src=\"https://colab.research.google.com/assets/colab-badge.svg\" alt=\"Open In Colab\"/></a>"
      ]
    },
    {
      "cell_type": "code",
      "metadata": {
        "id": "ClTPtkwEIDpz"
      },
      "source": [
        "import pandas as pd\n",
        "from google.colab import files\n",
        "toUpload = files.upload()"
      ],
      "execution_count": null,
      "outputs": []
    },
    {
      "cell_type": "code",
      "metadata": {
        "id": "qbALm_bGIWXF"
      },
      "source": [
        "import io\n",
        "messages = pd.read_csv(io.BytesIO(toUpload['SMSSpamCollection.csv']), sep='\\t', names=['label','message'], error_bad_lines=False)\n",
        "messages.head()"
      ],
      "execution_count": null,
      "outputs": []
    },
    {
      "cell_type": "code",
      "metadata": {
        "id": "eSjtSvfp-fi2"
      },
      "source": [
        "messages.describe()\n",
        "messages.info()"
      ],
      "execution_count": null,
      "outputs": []
    },
    {
      "cell_type": "code",
      "metadata": {
        "id": "UuropYIFA8PI"
      },
      "source": [
        "messages['label'].value_counts()"
      ],
      "execution_count": null,
      "outputs": []
    },
    {
      "cell_type": "code",
      "metadata": {
        "id": "Ln2kCdGNJrYo"
      },
      "source": [
        "import nltk, re\n",
        "nltk.download('stopwords')\n",
        "from nltk.corpus import stopwords\n",
        "from nltk.stem.porter import PorterStemmer\n",
        "\n",
        "ps = PorterStemmer()\n",
        "stopWords = set(stopwords.words('english'))\n",
        "\n",
        "cleanedMessages = []\n",
        "for i in range(len(messages)):\n",
        "  cleanedData = re.sub('[^a-zA-Z]', ' ', messages['message'][i]).lower().split()\n",
        "  cleanedData = ' '.join([ps.stem(word) for word in cleanedData if word not in stopWords])\n",
        "  cleanedMessages.append(cleanedData) \n",
        "  "
      ],
      "execution_count": null,
      "outputs": []
    },
    {
      "cell_type": "code",
      "metadata": {
        "id": "r2W4zHKo02mm"
      },
      "source": [
        "from sklearn.feature_extraction.text import TfidfVectorizer\n",
        "vectorizer = TfidfVectorizer(max_features=4000)\n",
        "X = vectorizer.fit_transform(cleanedMessages).toarray()\n",
        "# print(vectorizer.get_feature_names())\n",
        "print(X)"
      ],
      "execution_count": null,
      "outputs": []
    },
    {
      "cell_type": "code",
      "metadata": {
        "id": "bGhoSYQbIrgF"
      },
      "source": [
        "y = pd.get_dummies(messages['label'])\n",
        "y = y.iloc[:,1].values\n"
      ],
      "execution_count": 39,
      "outputs": []
    },
    {
      "cell_type": "code",
      "metadata": {
        "id": "WHuX0s-jG-jE"
      },
      "source": [
        "from sklearn.model_selection import train_test_split\n",
        "x_train, x_test, y_train, y_test = train_test_split(X,y, test_size = 0.20, random_state = 0)"
      ],
      "execution_count": 40,
      "outputs": []
    },
    {
      "cell_type": "code",
      "metadata": {
        "id": "IfGToROEJp0B"
      },
      "source": [
        "from sklearn.naive_bayes import MultinomialNB\n",
        "model = MultinomialNB().fit(x_train, y_train)"
      ],
      "execution_count": 41,
      "outputs": []
    },
    {
      "cell_type": "code",
      "metadata": {
        "id": "5bvcsLyeKxw5"
      },
      "source": [
        "y_pred = model.predict(x_test)"
      ],
      "execution_count": 42,
      "outputs": []
    },
    {
      "cell_type": "code",
      "metadata": {
        "colab": {
          "base_uri": "https://localhost:8080/"
        },
        "id": "1dSxUDHCLTrh",
        "outputId": "0259d95b-d69f-4eab-f536-39ed072e4b8d"
      },
      "source": [
        "from sklearn.metrics import confusion_matrix\n",
        "confusionMatrix = confusion_matrix(y_test, y_pred)\n",
        "confusionMatrix\n"
      ],
      "execution_count": 43,
      "outputs": [
        {
          "output_type": "execute_result",
          "data": {
            "text/plain": [
              "array([[955,   0],\n",
              "       [ 29, 131]])"
            ]
          },
          "metadata": {
            "tags": []
          },
          "execution_count": 43
        }
      ]
    },
    {
      "cell_type": "code",
      "metadata": {
        "colab": {
          "base_uri": "https://localhost:8080/"
        },
        "id": "Sf21_nj3LnX4",
        "outputId": "d13c6db2-5644-475a-d757-038f2ce0f04d"
      },
      "source": [
        "from sklearn.metrics import accuracy_score\n",
        "accuracyScore = accuracy_score(y_test, y_pred)\n",
        "accuracyScore"
      ],
      "execution_count": 44,
      "outputs": [
        {
          "output_type": "execute_result",
          "data": {
            "text/plain": [
              "0.9739910313901345"
            ]
          },
          "metadata": {
            "tags": []
          },
          "execution_count": 44
        }
      ]
    },
    {
      "cell_type": "code",
      "metadata": {
        "id": "RSsZJi1rMXL2"
      },
      "source": [
        ""
      ],
      "execution_count": null,
      "outputs": []
    }
  ]
}